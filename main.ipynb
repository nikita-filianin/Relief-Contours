{
 "cells": [
  {
   "cell_type": "code",
   "execution_count": 1,
   "metadata": {},
   "outputs": [],
   "source": [
    "from Configs.config_parser import Config\n",
    "\n",
    "from Core.JP2Tools import GdalUtils\n",
    "from Core.PngTools import PngUtils\n",
    "from Core.utility import makeDirs, downloadJP2, save_results\n",
    "\n",
    "import matplotlib.pyplot as plt\n"
   ]
  },
  {
   "cell_type": "code",
   "execution_count": 3,
   "metadata": {},
   "outputs": [
    {
     "name": "stdout",
     "output_type": "stream",
     "text": [
      "{'STORAGE_PATH': '../data', 'MODEL_PATH': 'UNet/weights/UNet_model.pth', 'BAND': 1, 'RESIZE_FACTOR': 0.1, 'TILE_SIZE': 512, 'NUM_CHANNELS': 1, 'NUM_CLASSES': 1, 'THRESHOLD': 0.5, 'GAP_SIZE': 50000, 'ISLAND_SIZE': 50000, 'CNT_DENSITY': 100, 'imID': 'ESP_019047_2640', 'CONFIG_PATH': 'Configs/config.yaml', 'JP2_DIR': '../data/images/JP2', 'JP2_FPATH': '../data/images/JP2/ESP_019047_2640_RED.JP2', 'PNG_DIR': '../data/images/png', 'PNG_FPATH': '../data/images/png/ESP_019047_2640_RED.png', 'RESULTS_DIR': '../data/results/npy', 'RESULTS_FPATH': '../data/results/npy/ESP_019047_2640.npy', 'PLOT_DIR': '../data/results/plots', 'PLOT_FPATH': '../data/results/plots/ESP_019047_2640.png', 'DEVICE': 'cuda:0'}\n"
     ]
    }
   ],
   "source": [
    "args = {'imID': 'ESP_019047_2640', 'CONFIG_PATH': 'Configs/config.yaml'}\n",
    "\n",
    "conf = Config(args['CONFIG_PATH']).getConfig(args)\n",
    "\n",
    "# print(conf)"
   ]
  },
  {
   "cell_type": "code",
   "execution_count": 4,
   "metadata": {},
   "outputs": [
    {
     "name": "stdout",
     "output_type": "stream",
     "text": [
      "Model loaded successfully\n"
     ]
    }
   ],
   "source": [
    "png_img = PngUtils(conf)\n",
    "coord_arr, tile_arr = png_img.get_tiles()\n",
    "mask = png_img.segment(coord_arr, tile_arr)"
   ]
  },
  {
   "cell_type": "code",
   "execution_count": null,
   "metadata": {},
   "outputs": [],
   "source": []
  }
 ],
 "metadata": {
  "kernelspec": {
   "display_name": "utility",
   "language": "python",
   "name": "python3"
  },
  "language_info": {
   "codemirror_mode": {
    "name": "ipython",
    "version": 3
   },
   "file_extension": ".py",
   "mimetype": "text/x-python",
   "name": "python",
   "nbconvert_exporter": "python",
   "pygments_lexer": "ipython3",
   "version": "3.11.9"
  }
 },
 "nbformat": 4,
 "nbformat_minor": 2
}
